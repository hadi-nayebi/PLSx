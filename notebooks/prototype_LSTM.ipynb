{
 "cells": [
  {
   "cell_type": "code",
   "execution_count": 1,
   "id": "dc85b26c-9c51-467c-a469-93775f26dc26",
   "metadata": {},
   "outputs": [],
   "source": [
    "import os\n",
    "import sys\n",
    "sys.path.insert(0, os.path.abspath('../'))"
   ]
  },
  {
   "cell_type": "code",
   "execution_count": 7,
   "id": "0c514aa2-13ac-47be-8ed2-e07778b0af55",
   "metadata": {},
   "outputs": [],
   "source": [
    "from PLSx.dataloader.dataloader import DataLoader\n",
    "from torch import device, cuda"
   ]
  },
  {
   "cell_type": "code",
   "execution_count": 8,
   "id": "981387e5-de23-4a53-bb1c-0965d3913052",
   "metadata": {},
   "outputs": [],
   "source": [
    "data_loader = DataLoader()\n",
    "data_loader.train_data = \"clss\"\n",
    "device = device(\"cuda:0\" if cuda.is_available() else \"cpu\")"
   ]
  },
  {
   "cell_type": "code",
   "execution_count": 14,
   "id": "4eb60c84-f5a1-48ab-af44-52d861ab236d",
   "metadata": {},
   "outputs": [],
   "source": [
    "data_loader.transform_data(device)"
   ]
  },
  {
   "cell_type": "code",
   "execution_count": 15,
   "id": "16c60e3b-e65a-47a6-a740-d7a436918807",
   "metadata": {},
   "outputs": [
    {
     "data": {
      "text/plain": [
       "178"
      ]
     },
     "execution_count": 15,
     "metadata": {},
     "output_type": "execute_result"
    }
   ],
   "source": [
    "len(data_loader.train_data)"
   ]
  },
  {
   "cell_type": "code",
   "execution_count": 17,
   "id": "d11d7d76-3122-4a67-9a51-3a675c294812",
   "metadata": {},
   "outputs": [],
   "source": [
    "_data_loader = data_loader.get_train_batch(batch_size=3)"
   ]
  },
  {
   "cell_type": "code",
   "execution_count": 18,
   "id": "79ca2b3e-cd2c-4fbf-a647-cea7605d0f31",
   "metadata": {},
   "outputs": [
    {
     "name": "stdout",
     "output_type": "stream",
     "text": [
      "tensor([[20.,  8.,  0.],\n",
      "        [20.,  8.,  0.],\n",
      "        [20.,  8.,  0.],\n",
      "        ...,\n",
      "        [20.,  8.,  0.],\n",
      "        [20.,  8.,  0.],\n",
      "        [20.,  8.,  0.]])\n"
     ]
    }
   ],
   "source": [
    "for item in _data_loader:\n",
    "    print(item)\n",
    "    break"
   ]
  },
  {
   "cell_type": "code",
   "execution_count": 20,
   "id": "6b415854-87ea-48fe-8d94-0c67f1638b77",
   "metadata": {},
   "outputs": [
    {
     "data": {
      "text/plain": [
       "torch.Size([1138, 3])"
      ]
     },
     "execution_count": 20,
     "metadata": {},
     "output_type": "execute_result"
    }
   ],
   "source": [
    "item.shape"
   ]
  },
  {
   "cell_type": "code",
   "execution_count": null,
   "id": "1f9dc7a5-ca07-4786-9405-9953f55bdaa9",
   "metadata": {},
   "outputs": [],
   "source": [
    "class LSTMAutoencoder(Module):\n",
    "    "
   ]
  }
 ],
 "metadata": {
  "kernelspec": {
   "display_name": "Python 3 (ipykernel)",
   "language": "python",
   "name": "python3"
  },
  "language_info": {
   "codemirror_mode": {
    "name": "ipython",
    "version": 3
   },
   "file_extension": ".py",
   "mimetype": "text/x-python",
   "name": "python",
   "nbconvert_exporter": "python",
   "pygments_lexer": "ipython3",
   "version": "3.9.7"
  }
 },
 "nbformat": 4,
 "nbformat_minor": 5
}
