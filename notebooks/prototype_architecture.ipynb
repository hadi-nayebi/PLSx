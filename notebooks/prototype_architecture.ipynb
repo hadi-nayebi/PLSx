{
 "cells": [
  {
   "cell_type": "code",
   "execution_count": 2,
   "id": "78030f47-4abb-4f4c-bff9-8b1c11ca199c",
   "metadata": {},
   "outputs": [],
   "source": [
    "import os\n",
    "import sys"
   ]
  },
  {
   "cell_type": "code",
   "execution_count": 3,
   "id": "ba1abcc3-8c30-4da0-8899-ecbf58bf5307",
   "metadata": {},
   "outputs": [],
   "source": [
    "sys.path.insert(0, os.path.abspath('../'))"
   ]
  },
  {
   "cell_type": "code",
   "execution_count": 6,
   "id": "03b774dd-d37a-497d-b4cd-69cb7bec3b79",
   "metadata": {},
   "outputs": [],
   "source": [
    "from PLSx.autoencoder.architecture import Architecture\n",
    "from PLSx.utils.file_manager import get_root"
   ]
  },
  {
   "cell_type": "code",
   "execution_count": 7,
   "id": "2c6e0efc-8f2d-4dd0-83f3-ad36259953fc",
   "metadata": {},
   "outputs": [
    {
     "name": "stdout",
     "output_type": "stream",
     "text": [
      "/Users/hadinayebi/CodingProjects/plsx\n"
     ]
    }
   ],
   "source": [
    "root = get_root(file=\"./\", retrace=0)\n",
    "print(root)"
   ]
  },
  {
   "cell_type": "code",
   "execution_count": 8,
   "id": "4aa3f0c6-08af-4baa-8ef7-58db3d4e2331",
   "metadata": {},
   "outputs": [],
   "source": [
    "architecture_json_file = root / \"PLSx\" / \"test_data\" / \"architecture_sample.json\""
   ]
  },
  {
   "cell_type": "code",
   "execution_count": 9,
   "id": "3513396e-65f7-465e-8e90-640ea43dbc7b",
   "metadata": {},
   "outputs": [],
   "source": [
    "architecture = Architecture()"
   ]
  },
  {
   "cell_type": "code",
   "execution_count": 10,
   "id": "f1f54a79-35a3-44e1-9dbc-b72613a009a7",
   "metadata": {},
   "outputs": [],
   "source": [
    "architecture.build(architecture_json_file)"
   ]
  },
  {
   "cell_type": "code",
   "execution_count": 11,
   "id": "7a3b2c5d-6308-495d-96a2-b529d32736a2",
   "metadata": {},
   "outputs": [],
   "source": [
    "model = architecture.get_model()"
   ]
  },
  {
   "cell_type": "code",
   "execution_count": 13,
   "id": "b741bbe8-9e40-4ec4-9d9a-f3f86dcff991",
   "metadata": {},
   "outputs": [],
   "source": [
    "keys = list(architecture.components.keys())\n",
    "model_l1 = list(model[keys[0]].children())[0]\n",
    "arch_l1 = architecture.components[keys[0]].layers[0].layer"
   ]
  },
  {
   "cell_type": "code",
   "execution_count": 14,
   "id": "874f21b9-cf7b-4198-87f5-bd09a2e63b25",
   "metadata": {},
   "outputs": [
    {
     "data": {
      "text/plain": [
       "True"
      ]
     },
     "execution_count": 14,
     "metadata": {},
     "output_type": "execute_result"
    }
   ],
   "source": [
    "model_l1 == arch_l1"
   ]
  },
  {
   "cell_type": "code",
   "execution_count": null,
   "id": "f45cbe78-2e87-4b27-9ea9-57ec94620606",
   "metadata": {},
   "outputs": [],
   "source": []
  }
 ],
 "metadata": {
  "kernelspec": {
   "display_name": "Python 3 (ipykernel)",
   "language": "python",
   "name": "python3"
  },
  "language_info": {
   "codemirror_mode": {
    "name": "ipython",
    "version": 3
   },
   "file_extension": ".py",
   "mimetype": "text/x-python",
   "name": "python",
   "nbconvert_exporter": "python",
   "pygments_lexer": "ipython3",
   "version": "3.9.7"
  }
 },
 "nbformat": 4,
 "nbformat_minor": 5
}
