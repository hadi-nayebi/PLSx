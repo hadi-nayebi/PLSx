{
 "cells": [
  {
   "cell_type": "code",
   "execution_count": 1,
   "id": "03b774dd-d37a-497d-b4cd-69cb7bec3b79",
   "metadata": {},
   "outputs": [],
   "source": [
    "import pandas as pd"
   ]
  },
  {
   "cell_type": "code",
   "execution_count": null,
   "id": "2c6e0efc-8f2d-4dd0-83f3-ad36259953fc",
   "metadata": {},
   "outputs": [],
   "source": [
    "df = pd.read_xml(\"../data/uniprot_sprot.xml.gz\")"
   ]
  },
  {
   "cell_type": "code",
   "execution_count": null,
   "id": "4aa3f0c6-08af-4baa-8ef7-58db3d4e2331",
   "metadata": {},
   "outputs": [],
   "source": [
    "df"
   ]
  },
  {
   "cell_type": "code",
   "execution_count": null,
   "id": "3513396e-65f7-465e-8e90-640ea43dbc7b",
   "metadata": {},
   "outputs": [],
   "source": []
  }
 ],
 "metadata": {
  "kernelspec": {
   "display_name": "Python 3 (ipykernel)",
   "language": "python",
   "name": "python3"
  },
  "language_info": {
   "codemirror_mode": {
    "name": "ipython",
    "version": 3
   },
   "file_extension": ".py",
   "mimetype": "text/x-python",
   "name": "python",
   "nbconvert_exporter": "python",
   "pygments_lexer": "ipython3",
   "version": "3.9.7"
  }
 },
 "nbformat": 4,
 "nbformat_minor": 5
}
